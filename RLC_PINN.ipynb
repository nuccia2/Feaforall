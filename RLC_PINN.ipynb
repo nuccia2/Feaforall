{
  "nbformat": 4,
  "nbformat_minor": 0,
  "metadata": {
    "colab": {
      "provenance": [],
      "authorship_tag": "ABX9TyPgKY9dqBrV1vV6iht3tIb8",
      "include_colab_link": true
    },
    "kernelspec": {
      "name": "python3",
      "display_name": "Python 3"
    },
    "language_info": {
      "name": "python"
    }
  },
  "cells": [
    {
      "cell_type": "markdown",
      "metadata": {
        "id": "view-in-github",
        "colab_type": "text"
      },
      "source": [
        "<a href=\"https://colab.research.google.com/github/nuccia2/Feaforall/blob/master/RLC_PINN.ipynb\" target=\"_parent\"><img src=\"https://colab.research.google.com/assets/colab-badge.svg\" alt=\"Open In Colab\"/></a>"
      ]
    },
    {
      "cell_type": "markdown",
      "source": [
        "(4) Estrutura PINN"
      ],
      "metadata": {
        "id": "HNXO8LksLmsw"
      }
    },
    {
      "cell_type": "markdown",
      "source": [
        "(5) implementação de PINN\n",
        "\n",
        "A seguir está o código python para a implementação do PINN. O código completo para implementação do PINN está disponível aqui ."
      ],
      "metadata": {
        "id": "YYf3nXtFIuMD"
      }
    },
    {
      "cell_type": "code",
      "execution_count": 1,
      "metadata": {
        "id": "fWdqAHBFFL92"
      },
      "outputs": [],
      "source": [
        "import tensorflow as tf\n",
        "from tensorflow.python.ops import math_ops\n",
        "import keras.backend as K\n",
        "import numpy as np\n"
      ]
    },
    {
      "cell_type": "code",
      "source": [
        "from tensorflow.keras.initializers import RandomNormal\n",
        "from tensorflow.keras.optimizers import Adam\n",
        "from tensorflow.keras import layers\n",
        "import matplotlib.pyplot as plt\n",
        "import math"
      ],
      "metadata": {
        "id": "UJM1Xz4_IGVw"
      },
      "execution_count": 2,
      "outputs": []
    },
    {
      "cell_type": "markdown",
      "source": [
        "(5.1) Definição do modelo de rede neural\n",
        "\n",
        "A rede neural do PINN possui duas camadas ocultas totalmente conectadas, cada uma com 128 neurônios. Há uma única entrada para pontos de tempo e uma única saída para os pontos de resposta."
      ],
      "metadata": {
        "id": "ZCWahrhxIjvm"
      }
    },
    {
      "cell_type": "code",
      "source": [
        "# Hyperparameters\n",
        "batch_size = 1\n",
        "epochs = 600\n",
        "optimizer = Adam(learning_rate=0.001)\n",
        "weight_init = RandomNormal()"
      ],
      "metadata": {
        "id": "KMHjpTETIOm1"
      },
      "execution_count": 3,
      "outputs": []
    },
    {
      "cell_type": "code",
      "source": [
        "# Build model\n",
        "inputs = tf.keras.Input(shape=(1,))\n",
        "x = layers.Dense(128, activation='gelu', kernel_initializer=weight_init,\n",
        "                 kernel_regularizer=None)(inputs)\n",
        "x = layers.Dense(128, activation='gelu', kernel_initializer=weight_init,\n",
        "                 kernel_regularizer=None)(x)\n",
        "output = layers.Dense(1, activation='linear', kernel_initializer=weight_init)(x)\n",
        "model = tf.keras.Model(inputs, output)"
      ],
      "metadata": {
        "colab": {
          "base_uri": "https://localhost:8080/"
        },
        "id": "rVlJkrtEIcGQ",
        "outputId": "3fd0fa44-fe5d-43b8-ecce-c9b6735ecb3e"
      },
      "execution_count": 4,
      "outputs": [
        {
          "output_type": "stream",
          "name": "stderr",
          "text": [
            "/usr/local/lib/python3.10/dist-packages/keras/src/initializers/initializers.py:120: UserWarning: The initializer RandomNormal is unseeded and being called multiple times, which will return identical values each time (even if the initializer is unseeded). Please update your code to provide a seed to the initializer, or avoid using the same initializer instance more than once.\n",
            "  warnings.warn(\n"
          ]
        }
      ]
    },
    {
      "cell_type": "markdown",
      "source": [
        "(5.2) Inicialização do PINN\n",
        "\n",
        "No modelo PINN, os valores dos componentes R , L e C e a tensão inicial do capacitor (linhas 2–5) são constantes que determinam a resposta do DE. Os pontos de co-localização, especificados no domínio do tempo (linha 8), são os pontos onde o resíduo é calculado. As condições iniciais (linhas 11 e 15) são da Equação 3 e da Equação 4."
      ],
      "metadata": {
        "id": "vAF2eAw5JVlU"
      }
    },
    {
      "cell_type": "code",
      "source": [
        "# circuit parameters (choose one set)\n",
        "\n",
        "# under-damped parameters set - # parâmetros subamortecidos definidos\n",
        "R = 1.2  # resistance, ohm\n",
        "L = 1.5  # inductance, H\n",
        "C = 0.3  # capacitance, F\n",
        "VC_0 = 12.0  # volts, initial capacitor voltage\n",
        "\n",
        "# critically-damped parameters set\n",
        "# R = 4.47  # resistance, ohm\n",
        "# L = 1.5  # inductance, H\n",
        "# C = 0.3  # capacitance, F\n",
        "# VC_0 = 12.0  # volts, initial capacitor voltage\n",
        "\n",
        "# over-damped parameter set\n",
        "# R = 6.0  # resistance, ohm\n",
        "# L = 1.5  # inductance, H\n",
        "# C = 0.3  # capacitance, F\n",
        "# VC_0 = 12.0  # volts, initial capacitor voltage\n",
        "\n",
        "# co-location points\n",
        "t_coloc = np.arange(0, 6.0, 0.3)  # define domain\n",
        "\n",
        "# initial conditions:\n",
        "   #  f(t) initial conditions\n",
        "t_init = np.array([0.0])  # time, sec\n",
        "i_init = np.array([0.0])  # current, A\n",
        "\n",
        "   #  f'(t) initial conditions\n",
        "t_init2 = np.array([0.0])  # time, sec\n",
        "v_init2 = np.array([VC_0])  # d/dt(i) * L = VC_0"
      ],
      "metadata": {
        "id": "M0cq1RZaJLvb"
      },
      "execution_count": 6,
      "outputs": []
    },
    {
      "cell_type": "markdown",
      "source": [
        "(5.3) Etapa de treinamento PINN\n",
        "\n",
        "A seguir está o código python para a função da etapa de treinamento. Para cada lote de treinamento, a função step calcula os três componentes da perda e, em seguida, usa a perda total para atualizar os pesos na rede neural.\n",
        "\n",
        "perda 1: A condição inicial da Equação 3 é comparada com a saída da rede, pred_y (linha 9). O quadrado da diferença é model_loss1 (linha 10).\n",
        "\n",
        "perda 2: O residual (linha 30) é calculado nos pontos de colocalização. Ele usa o gradiente de primeira ordem, dfdx (linha 17), e o gradiente de segunda ordem, dfdx2 (linha 26), da GradientTape, junto com a saída da rede, pred_y (linha 29), para calcular o lado esquerdo. lado da Equação 2. Este valor ao quadrado é model_loss2 (linha 31).\n",
        "\n",
        "perda 3: A condição inicial da Equação 4 compara o produto de L e o gradiente de primeira ordem, dfdx (linha 17), com v_init2. O quadrado da diferença é model_loss3 (linha 19).\n",
        "\n",
        "O total dos três componentes de perda, model_loss (linha 35), é usado para calcular os gradientes de perda em relação aos pesos da rede neural (linha 38). O otimizador então atualiza os pesos (linha 41)."
      ],
      "metadata": {
        "id": "UqkA6iy0JeHM"
      }
    },
    {
      "cell_type": "code",
      "source": [
        "# Step function\n",
        "def step(t_coloc, t_init, i_init, t_init2, i_init2):\n",
        "    t_coloc = tf.convert_to_tensor(t_coloc)\n",
        "    t_coloc = tf.reshape(t_coloc, [batch_size, 1])  # required by keras input\n",
        "    t_coloc = tf.Variable(t_coloc, name='t_coloc')\n",
        "    with tf.GradientTape(persistent=True) as tape:\n",
        "\n",
        "        # model_loss1: initial condition i_init @ t_init -> f(t) initial condition\n",
        "        pred_init = model(t_init)\n",
        "        model_loss1 = math_ops.squared_difference(pred_init, i_init)\n",
        "\n",
        "        # model_loss3: initial condition i_init2 @ t_init2 -> f'(t) initial condition\n",
        "        t_init2 = tf.convert_to_tensor(t_init2)\n",
        "        t_init2 = tf.reshape(t_init2, [1, 1])\n",
        "        t_init2 = tf.Variable(t_init2, name='t_init2')\n",
        "        pred_init2 = model(t_init2)\n",
        "        dfdx = tape.gradient(pred_init2, t_init2)  # f'(t)\n",
        "        vl = dfdx * tf.cast(L, tf.float64)  # inductor voltage due to dfdx\n",
        "        model_loss3 = math_ops.squared_difference(vl, v_init2)\n",
        "        model_loss3 = tf.cast(model_loss3, tf.float32)\n",
        "\n",
        "        # 1st and 2nd order gradients for co-location pts\n",
        "        with tf.GradientTape(persistent=True) as tape2:\n",
        "            pred_y = model(t_coloc)\n",
        "            dfdx = tape2.gradient(pred_y, t_coloc)  # f'(t)\n",
        "        dfdx2 = tape2.gradient(dfdx, t_coloc)  # f\"(t)\n",
        "\n",
        "        # model_loss2: collocation points\n",
        "        pred_y = tf.cast(pred_y, tf.float64)\n",
        "        residual = dfdx2 + dfdx * (R / L) + pred_y / (L * C)\n",
        "        model_loss2 = K.mean(math_ops.square(residual), axis=-1)\n",
        "        model_loss2 = tf.cast(model_loss2, tf.float32)\n",
        "\n",
        "        #total loss\n",
        "        model_loss = model_loss1 + model_loss2 + model_loss3\n",
        "\n",
        "        trainable = model.trainable_variables\n",
        "        model_gradients = tape.gradient(model_loss, trainable)\n",
        "\n",
        "        # Update model\n",
        "        optimizer.apply_gradients(zip(model_gradients, trainable))"
      ],
      "metadata": {
        "id": "k0S1228iJYKj"
      },
      "execution_count": 9,
      "outputs": []
    },
    {
      "cell_type": "markdown",
      "source": [
        "(6) Resultados PINN\n",
        "\n",
        "Seguem os resultados do treinamento de um PINN para três casos de teste.\n",
        "Os testes são para as condições da seção 3: subamortecido, criticamente amortecido e sobreamortecido. Cada gráfico abaixo apresenta três traços:\n",
        "\n",
        "*   a resposta da equação analítica (azul);\n",
        "*   os pontos de co-localização (verde);\n",
        "*   a resposta de saída do PINN treinado (vermelho)\n",
        "\n",
        "\n",
        "\n"
      ],
      "metadata": {
        "id": "SM5ewKBfJ0Xz"
      }
    },
    {
      "cell_type": "code",
      "source": [
        "# Training loop\n",
        "bat_per_epoch = math.floor(len(t_coloc) / batch_size)\n",
        "for epoch in range(epochs):\n",
        "    for i in range(bat_per_epoch):\n",
        "        n = i * batch_size\n",
        "        step(t_coloc[n:n + batch_size], t_init, i_init, t_init2, v_init2)\n",
        "\n",
        "# compare PINN results vs analytical results\n",
        "num_test_pts = 60\n",
        "t_test = np.zeros(num_test_pts)\n",
        "i_test = np.zeros(num_test_pts)\n",
        "i_calc = np.zeros(num_test_pts)\n",
        "i_train = model.predict(t_coloc)  # for plotting co-location pts\n",
        "\n",
        "alpha = R / (2 * L)\n",
        "for i in range(num_test_pts):\n",
        "    t_test[i] = i / 10.0  # total time = t_test[num_test_pts]\n",
        "\n",
        "    # PINN results\n",
        "    i_test[i] = model.predict([t_test[i]])  # PINN results\n",
        "\n",
        "    # analytical results for comparison to PINN result\n",
        "    # choose one matching the chosen circuit parameter set\n",
        "    i_calc[i] = 5.57 * math.exp(-0.4 * t_test[i]) * np.sin(1.44 * t_test[i])  # under-damped\n",
        "    #i_calc[i] = (VC_0 / L) * t_test[i] * math.exp(-1 * alpha * t_test[i])  # critically-damped\n",
        "    # i_calc[i] = 3.0 * (math.exp(-0.67 * t_test[i]) - math.exp(-3.33 * t_test[i]))  # over-damped\n",
        "\n",
        "#  plt.plot(x_test, y_test, 'r', x_test, y_calc, 'b')\n",
        "plt.plot(t_test, i_test, 'r', t_test, i_calc, 'b', t_coloc, i_train, 'Dg')\n",
        "plt.title('red: PINN   blue: analytical solution   green: co-location pts')\n",
        "plt.xlabel('t (secs)')\n",
        "plt.ylabel('i (amps)')\n",
        "plt.show()\n",
        "\n",
        "# Save result data to file\n",
        "\n",
        "#pinn_data = np.stack((t_test, i_test), axis=1)\n",
        "#np.save('[insert path here]/pinn_data.npy', pinn_data)"
      ],
      "metadata": {
        "colab": {
          "base_uri": "https://localhost:8080/",
          "height": 1000
        },
        "id": "ZFLe-0akJ4Qu",
        "outputId": "8d67a7be-4bdb-4b07-9ec1-e2199d1fcfb2"
      },
      "execution_count": 13,
      "outputs": [
        {
          "output_type": "stream",
          "name": "stdout",
          "text": [
            "1/1 [==============================] - 0s 21ms/step\n",
            "1/1 [==============================] - 0s 38ms/step\n",
            "1/1 [==============================] - 0s 38ms/step\n",
            "1/1 [==============================] - 0s 36ms/step\n"
          ]
        },
        {
          "output_type": "stream",
          "name": "stderr",
          "text": [
            "<ipython-input-13-3acad547ab76>:20: DeprecationWarning: Conversion of an array with ndim > 0 to a scalar is deprecated, and will error in future. Ensure you extract a single element from your array before performing this operation. (Deprecated NumPy 1.25.)\n",
            "  i_test[i] = model.predict([t_test[i]])  # PINN results\n"
          ]
        },
        {
          "output_type": "stream",
          "name": "stdout",
          "text": [
            "1/1 [==============================] - 0s 41ms/step\n",
            "1/1 [==============================] - 0s 43ms/step\n",
            "1/1 [==============================] - 0s 40ms/step\n",
            "1/1 [==============================] - 0s 39ms/step\n",
            "1/1 [==============================] - 0s 40ms/step\n",
            "1/1 [==============================] - 0s 38ms/step\n",
            "1/1 [==============================] - 0s 39ms/step\n",
            "1/1 [==============================] - 0s 44ms/step\n",
            "1/1 [==============================] - 0s 39ms/step\n",
            "1/1 [==============================] - 0s 39ms/step\n",
            "1/1 [==============================] - 0s 36ms/step\n",
            "1/1 [==============================] - 0s 35ms/step\n",
            "1/1 [==============================] - 0s 35ms/step\n",
            "1/1 [==============================] - 0s 35ms/step\n",
            "1/1 [==============================] - 0s 37ms/step\n",
            "1/1 [==============================] - 0s 46ms/step\n",
            "1/1 [==============================] - 0s 36ms/step\n",
            "1/1 [==============================] - 0s 35ms/step\n",
            "1/1 [==============================] - 0s 36ms/step\n",
            "1/1 [==============================] - 0s 36ms/step\n",
            "1/1 [==============================] - 0s 37ms/step\n",
            "1/1 [==============================] - 0s 39ms/step\n",
            "1/1 [==============================] - 0s 44ms/step\n",
            "1/1 [==============================] - 0s 41ms/step\n",
            "1/1 [==============================] - 0s 40ms/step\n",
            "1/1 [==============================] - 0s 39ms/step\n",
            "1/1 [==============================] - 0s 44ms/step\n",
            "1/1 [==============================] - 0s 40ms/step\n",
            "1/1 [==============================] - 0s 41ms/step\n",
            "1/1 [==============================] - 0s 47ms/step\n",
            "1/1 [==============================] - 0s 45ms/step\n",
            "1/1 [==============================] - 0s 42ms/step\n",
            "1/1 [==============================] - 0s 45ms/step\n",
            "1/1 [==============================] - 0s 42ms/step\n",
            "1/1 [==============================] - 0s 45ms/step\n",
            "1/1 [==============================] - 0s 52ms/step\n",
            "1/1 [==============================] - 0s 42ms/step\n",
            "1/1 [==============================] - 0s 44ms/step\n",
            "1/1 [==============================] - 0s 40ms/step\n",
            "1/1 [==============================] - 0s 44ms/step\n",
            "1/1 [==============================] - 0s 41ms/step\n",
            "1/1 [==============================] - 0s 41ms/step\n",
            "1/1 [==============================] - 0s 40ms/step\n",
            "1/1 [==============================] - 0s 47ms/step\n",
            "1/1 [==============================] - 0s 42ms/step\n",
            "1/1 [==============================] - 0s 41ms/step\n",
            "1/1 [==============================] - 0s 43ms/step\n",
            "1/1 [==============================] - 0s 44ms/step\n",
            "1/1 [==============================] - 0s 42ms/step\n",
            "1/1 [==============================] - 0s 38ms/step\n",
            "1/1 [==============================] - 0s 41ms/step\n",
            "1/1 [==============================] - 0s 39ms/step\n",
            "1/1 [==============================] - 0s 45ms/step\n",
            "1/1 [==============================] - 0s 43ms/step\n",
            "1/1 [==============================] - 0s 41ms/step\n",
            "1/1 [==============================] - 0s 40ms/step\n",
            "1/1 [==============================] - 0s 39ms/step\n"
          ]
        },
        {
          "output_type": "display_data",
          "data": {
            "text/plain": [
              "<Figure size 640x480 with 1 Axes>"
            ],
            "image/png": "[encoded data removed]"
          },
          "metadata": {}
        }
      ]
    },
    {
      "cell_type": "markdown",
      "source": [],
      "metadata": {
        "id": "0d1BDVAnJtgD"
      }
    }
  ]
}